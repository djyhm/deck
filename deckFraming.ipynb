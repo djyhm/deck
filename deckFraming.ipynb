{
 "cells": [
  {
   "cell_type": "markdown",
   "metadata": {},
   "source": [
    "# Decking layout"
   ]
  },
  {
   "cell_type": "markdown",
   "metadata": {},
   "source": [
    "Decking boards are 5/4x6, or 1\"x5.5\".  Spacing will be set below as gap: either 1/8 or 3/16\"\n"
   ]
  },
  {
   "cell_type": "code",
   "execution_count": 1,
   "metadata": {},
   "outputs": [],
   "source": [
    "import matplotlib\n",
    "import numpy as np\n",
    "import matplotlib.pyplot as plt\n",
    "\n",
    "%matplotlib inline"
   ]
  },
  {
   "cell_type": "code",
   "execution_count": 2,
   "metadata": {},
   "outputs": [],
   "source": [
    "plt.rcParams['figure.figsize'] = [10, 10]\n",
    "\n",
    "gap=0.1875  # or 0.125 .   Spacing between decking \n",
    "b2=5.5  # \n",
    "b1=1.0  #\n",
    "j2=7.5\n",
    "j1=1.5\n",
    "hstep=7.    # height of step\n",
    "lip=1.0     # lip\n",
    "totalHeight=56.0\n",
    "\n"
   ]
  },
  {
   "cell_type": "code",
   "execution_count": 3,
   "metadata": {},
   "outputs": [],
   "source": [
    "def makeBoard(xs,ys,dx,dy,color):\n",
    "    xe=xs+dx; ye=ys+dy\n",
    "    plt.plot(np.array([xs,xe,xe,xs,xs]),np.array([ys,ys,ye,ye,ys]),color)\n",
    "def makeBoardEnds(xs,ys,xe,ye,color):    \n",
    "    plt.plot(np.array([xs,xe,xe,xs,xs]),np.array([ys,ys,ye,ye,ys]),color)\n",
    "def makeFilledBoard(xs,ys,dx,dy,color):\n",
    "    xe=xs+dx; ye=ys+dy\n",
    "    x=np.array([xs,xs,xe,xe])\n",
    "    y1=np.array([ys,ys,ys,ye])\n",
    "    y2=np.array([ys,ye,ye,ye])\n",
    "    plt.fill_between(x,y1,y2=y2,facecolor=color)\n",
    "def makeComplex(x,y,color):\n",
    "    plt.plot(x,y,color)"
   ]
  },
  {
   "cell_type": "markdown",
   "metadata": {},
   "source": [
    "## Lip Step"
   ]
  },
  {
   "cell_type": "code",
   "execution_count": 4,
   "metadata": {},
   "outputs": [
    {
     "name": "stdout",
     "output_type": "stream",
     "text": [
      "('tread=', 10.375, 'inches.  Must be at least 10 inches')\n"
     ]
    },
    {
     "data": {
      "text/plain": [
       "(-1.078125, 22.640625, -14.75, 8.96875)"
      ]
     },
     "execution_count": 4,
     "metadata": {},
     "output_type": "execute_result"
    },
    {
     "data": {
      "image/png": "[encoded data removed]",
      "text/plain": [
       "<Figure size 720x720 with 1 Axes>"
      ]
     },
     "metadata": {},
     "output_type": "display_data"
    }
   ],
   "source": [
    "makeBoard(0,0,b2,b1,'b')\n",
    "makeBoard(b2+gap,0,b2,b1,'b')\n",
    "makeBoard(2*b2+gap-lip-b1,-3.5,b1,3.5,'b')\n",
    "makeBoard(2*b2+gap-lip-b1,-hstep,b1,(hstep-3.5-gap),'b')\n",
    "makeBoard(2*b2+2*gap-lip,-hstep,b2,b1,'b')\n",
    "makeBoard(3*b2+3*gap-lip,-hstep,b2,b1,'b')\n",
    "makeBoard(4*b2+3*gap-2*lip-b1,-hstep-3.5,b1,3.5,'b')\n",
    "makeBoard(4*b2+3*gap-2*lip-b1,-2*hstep,b1,(hstep-3.5-gap),'b')\n",
    "\n",
    "tread=(4*b2+3*gap-lip)-(2*b2+gap)\n",
    "makeBoard(2*b2+gap,-2,tread,0.1,'k--')\n",
    "print(\"tread=\",tread,\"inches.  Must be at least 10 inches\")\n",
    "\n",
    "#makeBoard(2*hboard+gap-lip-wboard-j1-.05,-hstep,j1,hstep,'r')\n",
    "plt.axis('square')"
   ]
  },
  {
   "cell_type": "markdown",
   "metadata": {},
   "source": [
    "## Paneling faces"
   ]
  },
  {
   "cell_type": "code",
   "execution_count": null,
   "metadata": {},
   "outputs": [],
   "source": [
    "\n"
   ]
  },
  {
   "cell_type": "code",
   "execution_count": 5,
   "metadata": {},
   "outputs": [
    {
     "name": "stdout",
     "output_type": "stream",
     "text": [
      "(1, 'inch first,', 9, 'full boards, and', 3.625, 'inch last')\n"
     ]
    },
    {
     "data": {
      "text/plain": [
       "(25.865625, 87.46562499999999, -2.8000000000000003, 58.8)"
      ]
     },
     "execution_count": 5,
     "metadata": {},
     "output_type": "execute_result"
    },
    {
     "data": {
      "image/png": "[encoded data removed]",
      "text/plain": [
       "<Figure size 720x720 with 1 Axes>"
      ]
     },
     "metadata": {},
     "output_type": "display_data"
    }
   ],
   "source": [
    "#2.6\n",
    "hfirst=1   # height of first board from ground.  >=0, <=5.5\n",
    "\n",
    "h=hfirst+gap\n",
    "Nfull=0\n",
    "while h+b2<totalHeight-b1:\n",
    "    h=h+b2+gap\n",
    "    Nfull=Nfull+1\n",
    "hlast=totalHeight-h\n",
    "print(hfirst,\"inch first,\",Nfull,\"full boards, and\",hlast,\"inch last\")\n",
    "\n",
    "facewidth=totalHeight\n",
    "\n",
    "#makeBoard(0.75*facewidth,0,-b1,hfirst,'b')\n",
    "#top=hfirst+gap\n",
    "#for i in range(Nfull):\n",
    "#    makeBoard(0,top,facewidth,b2,'b')\n",
    "##    makeBoard(0.75*facewidth,top,-b1,b2,'b')\n",
    "#    top=top+gap+b2\n",
    "#makeBoard(0,top,facewidth,hlast,'b')\n",
    "#makeBoard(0.75*facewidth,top,-b1,hlast,'b')\n",
    "\n",
    "for i in range(8):\n",
    "    xst=0.5*facewidth+i*b2-i*lip\n",
    "    makeFilledBoard(xst,(i+1)*hstep-b1,b2,b1,'red')\n",
    "    #makeFilledBoard(xst+b2+gap,(i+1)*hstep-b1,b2,b1,'red')\n",
    "makeFilledBoard(xst+b2+gap,(i+1)*hstep-b1,b2,b1,'red')\n",
    "    \n",
    "rend=70\n",
    "xst=0.5*facewidth+lip; xend=xst-lip+b2\n",
    "makeBoard(xst,0,b1,hfirst,'b')\n",
    "makeBoardEnds(xst,0,rend,hfirst,'b')\n",
    "top=hfirst+gap\n",
    "step=1\n",
    "makeBoard(xst,4*hstep,10,-b1,'k:')\n",
    "\n",
    "for i in range(Nfull):  #Nfull\n",
    "    if top+b2>step*hstep-b1:\n",
    "        pt1=step*hstep-b1   # bottom of the step\n",
    "        pt3=top+b2\n",
    "        pt2=step*hstep      # top of step or top of board\n",
    "        if(pt3<pt2):    # new board doesn't go over top\n",
    "            pt2=pt3\n",
    "        makeComplex(np.array([xst,xst,xend,xend,rend,rend,xst]),\n",
    "                    np.array([top,pt1,pt1,pt3,pt3,top,top]),'b')\n",
    "        makeBoardEnds(xst,top,xst+b1,pt1,'b')\n",
    "        makeBoardEnds(xend,pt1,xend+b1,pt3,'b')\n",
    "        xst=xst+b2-lip; xend=xend+b2-lip\n",
    "        step=step+1\n",
    "    else:\n",
    "        makeBoardEnds(xst,top,rend,top+b2,'b')\n",
    "        makeBoardEnds(xst,top,xst+b1,top+b2,'b')\n",
    "    top=top+b2+gap\n",
    "        \n",
    "makeBoardEnds(xst,top,rend,step*hstep-b1,'b')  \n",
    "makeBoardEnds(xst,top,xst+b1,step*hstep-b1,'b')\n",
    "#    makeBoard(0,top,facewidth,b2,'b')\n",
    "#    top=top+gap+b2\n",
    "#makeBoard(0,top,facewidth,hlast,'b')\n",
    "#makeBoard(0.75*facewidth,top,-b1,hlast,'b')\n",
    "    \n",
    "plt.axis('square')"
   ]
  },
  {
   "cell_type": "code",
   "execution_count": 6,
   "metadata": {},
   "outputs": [
    {
     "data": {
      "text/plain": [
       "10.181818181818182"
      ]
     },
     "execution_count": 6,
     "metadata": {},
     "output_type": "execute_result"
    }
   ],
   "source": [
    "56./5.5\n"
   ]
  },
  {
   "cell_type": "code",
   "execution_count": null,
   "metadata": {},
   "outputs": [],
   "source": []
  },
  {
   "cell_type": "markdown",
   "metadata": {},
   "source": [
    "## Lip Step"
   ]
  },
  {
   "cell_type": "code",
   "execution_count": null,
   "metadata": {},
   "outputs": [],
   "source": []
  }
 ],
 "metadata": {
  "kernelspec": {
   "display_name": "Python 2",
   "language": "python",
   "name": "python2"
  },
  "language_info": {
   "codemirror_mode": {
    "name": "ipython",
    "version": 2
   },
   "file_extension": ".py",
   "mimetype": "text/x-python",
   "name": "python",
   "nbconvert_exporter": "python",
   "pygments_lexer": "ipython2",
   "version": "2.7.12"
  }
 },
 "nbformat": 4,
 "nbformat_minor": 1
}
